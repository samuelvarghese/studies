import numpy as np
import scipi.stats as stats
